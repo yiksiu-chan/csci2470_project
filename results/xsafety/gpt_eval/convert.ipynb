{
 "cells": [
  {
   "cell_type": "code",
   "execution_count": 1,
   "metadata": {},
   "outputs": [],
   "source": [
    "import json\n",
    "import csv"
   ]
  },
  {
   "cell_type": "code",
   "execution_count": 9,
   "metadata": {},
   "outputs": [],
   "source": [
    "def json_to_csv(json_file, harmbench_json_file, csv_file):\n",
    "    \"\"\"\n",
    "    Converts a JSON file to a CSV file with 'query', 'response', and 'unsafe' as the headers.\n",
    "    \n",
    "    Parameters:\n",
    "    - json_file: Path to the input JSON file.\n",
    "    - csv_file: Path to the output CSV file.\n",
    "    \"\"\"\n",
    "    with open(json_file, 'r', encoding='utf-8') as f:\n",
    "        data = json.load(f)\n",
    "    \n",
    "    with open(harmbench_json_file, 'r', encoding='utf-8') as f:\n",
    "        harmbench_data = json.load(f)\n",
    "    \n",
    "\n",
    "    with open(csv_file, 'w', newline='', encoding='utf-8') as f:\n",
    "        writer = csv.writer(f)\n",
    "        \n",
    "        writer.writerow(['query', 'response', 'unsafe_gpt', 'unsafe_harmbench'])\n",
    "        \n",
    "        for entry, harm in zip(data, harmbench_data):\n",
    "            query = entry.get('query', '')\n",
    "            response = entry.get('response', '')\n",
    "            unsafe = entry.get('ASR', '')\n",
    "            unsafe_harmbench = harm.get('ASR', '')\n",
    "            writer.writerow([query, response, unsafe, unsafe_harmbench])"
   ]
  },
  {
   "cell_type": "code",
   "execution_count": 13,
   "metadata": {},
   "outputs": [
    {
     "name": "stdout",
     "output_type": "stream",
     "text": [
      "JSON has been successfully converted to CSV.\n"
     ]
    }
   ],
   "source": [
    "json_file = 'responses_en_de_eval.json'  \n",
    "harmbench_json_file = '../harmbench_eval/responses_en_de_eval.json'\n",
    "csv_file = 'responses_en_de_eval.csv'   \n",
    "\n",
    "json_to_csv(json_file, harmbench_json_file, csv_file)\n",
    "print(\"JSON has been successfully converted to CSV.\")"
   ]
  }
 ],
 "metadata": {
  "kernelspec": {
   "display_name": "base",
   "language": "python",
   "name": "python3"
  },
  "language_info": {
   "codemirror_mode": {
    "name": "ipython",
    "version": 3
   },
   "file_extension": ".py",
   "mimetype": "text/x-python",
   "name": "python",
   "nbconvert_exporter": "python",
   "pygments_lexer": "ipython3",
   "version": "3.9.7"
  }
 },
 "nbformat": 4,
 "nbformat_minor": 2
}
